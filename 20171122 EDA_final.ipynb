{
 "cells": [
  {
   "cell_type": "code",
   "execution_count": 1,
   "metadata": {},
   "outputs": [
    {
     "name": "stderr",
     "output_type": "stream",
     "text": [
      "C:\\Users\\User\\Anaconda3\\lib\\site-packages\\ipykernel_launcher.py:6: FutureWarning: The pandas.core.datetools module is deprecated and will be removed in a future version. Please use the pandas.tseries module instead.\n",
      "  \n"
     ]
    }
   ],
   "source": [
    "##스타트업 파일\n",
    "\n",
    "from scipy.stats import norm\n",
    "import numpy as np\n",
    "import scipy as sp\n",
    "from pandas.core import datetools \n",
    "import pandas as pd\n",
    "import statsmodels.api as sm ## R 패키지에서 불러온것, 샘플데이터 옮겨쓸수 있는 프로젝트 있음. 회귀분석에 유용 \n",
    "import statsmodels.formula.api as smf\n",
    "import statsmodels.stats.api as sms\n",
    "import sklearn as sk \n",
    "## 전처리 \n",
    "\n",
    "import matplotlib as mpl\n",
    "mpl.use('Agg')\n",
    "import matplotlib.pylab \n",
    "import matplotlib.pyplot as plt\n",
    "%matplotlib inline\n",
    "from mpl_toolkits.mplot3d import Axes3D\n",
    "\n",
    "import seaborn as sns\n",
    "sns.set()\n",
    "sns.set_style(\"whitegrid\")\n",
    "sns.set_color_codes()\n",
    "\n"
   ]
  },
  {
   "cell_type": "markdown",
   "metadata": {},
   "source": [
    "## EDA(Exploratory Data Analysis)"
   ]
  },
  {
   "cell_type": "markdown",
   "metadata": {},
   "source": [
    "### Data 설명\n",
    "\n",
    "* 배경: Austin Animal Shelter : Animal shelter 이지만 주로 개, 고양이 위주로 서비스를 제공 \n",
    "* Austin, Texas\n",
    "\n",
    "* 26729 rows * 10 features\n",
    "* Case 건수 :2013년 2702건,2014년 1179건,2015년11481건, 2016년 1367건\n",
    "* 추가적인 background 설명: 미국에서는 인식칩이 비싸기 때문에 애완용 가축중 인식칩이 안되어있는 가축이 많고 그에 따라 shelter에 들어오는 개체수중 이름이 없는 경우가 많음 \n",
    "\n",
    "### Independant features \n",
    "* independant features = 8 , outcome feature =1 (Suboutcme feature =1 )\n",
    "* Original Data features = AnimalID, Name, DateTime, OutcomeType, OutcomeSubtype, AnimalType, SexuponOutcome, AgeuponOutcome, Breed, Color\n",
    "\n",
    "* Animal ID: 고유 ID \n",
    "* Name : 이름있음, 없음으로 2개의 카테고리값으로 분류 \n",
    "* DateTime: OutcomeType 이 시행된 날짜와 시간 (Austin Animal Shelter에서 확인) \n",
    "* Animal Type: Dog or Cat 2가지 카테고리\n",
    "* SexuponOutcome: 5가지 카테고리(Intact Vs. Neutered / Male Vs. Female/ Unknown) \n",
    "* AgeuponOutcome: Day,Week, Month, Years 입력 1day~20years까지 다양 \n",
    "* Breed: 고양이의 경우 , 개의 경우 입력된 Original Catecory 개수\n",
    "* Color: 입력된 Original Catecory 개수\n",
    "\n",
    "\n",
    "### Outcome Features\n",
    "* OutcomeType: Shelter를 떠나는 개체의 결론 5가지 카테고리(Adoption, Transfer, Euthanasia, Return to Owner, Died) \n",
    "* OutcomeSubtype: Outcome에 대한 이유 (특이사항만 적혀있음, Nan 값이 많음) \n",
    "\n",
    "* nan 값 또는 unknown 값 확인 후 imputing 처리 "
   ]
  },
  {
   "cell_type": "code",
   "execution_count": 2,
   "metadata": {},
   "outputs": [
    {
     "data": {
      "text/html": [
       "<div>\n",
       "<style>\n",
       "    .dataframe thead tr:only-child th {\n",
       "        text-align: right;\n",
       "    }\n",
       "\n",
       "    .dataframe thead th {\n",
       "        text-align: left;\n",
       "    }\n",
       "\n",
       "    .dataframe tbody tr th {\n",
       "        vertical-align: top;\n",
       "    }\n",
       "</style>\n",
       "<table border=\"1\" class=\"dataframe\">\n",
       "  <thead>\n",
       "    <tr style=\"text-align: right;\">\n",
       "      <th></th>\n",
       "      <th>AnimalID</th>\n",
       "      <th>Name</th>\n",
       "      <th>DateTime</th>\n",
       "      <th>OutcomeType</th>\n",
       "      <th>OutcomeSubtype</th>\n",
       "      <th>AnimalType</th>\n",
       "      <th>SexuponOutcome</th>\n",
       "      <th>AgeuponOutcome</th>\n",
       "      <th>Breed</th>\n",
       "      <th>Color</th>\n",
       "    </tr>\n",
       "  </thead>\n",
       "  <tbody>\n",
       "    <tr>\n",
       "      <th>26724</th>\n",
       "      <td>A702446</td>\n",
       "      <td>NaN</td>\n",
       "      <td>2015-05-14 11:56</td>\n",
       "      <td>Transfer</td>\n",
       "      <td>Partner</td>\n",
       "      <td>Cat</td>\n",
       "      <td>Intact Male</td>\n",
       "      <td>1 month</td>\n",
       "      <td>Domestic Shorthair Mix</td>\n",
       "      <td>Brown Tabby/White</td>\n",
       "    </tr>\n",
       "    <tr>\n",
       "      <th>26725</th>\n",
       "      <td>A718934</td>\n",
       "      <td>NaN</td>\n",
       "      <td>2016-01-20 18:59</td>\n",
       "      <td>Transfer</td>\n",
       "      <td>SCRP</td>\n",
       "      <td>Cat</td>\n",
       "      <td>Spayed Female</td>\n",
       "      <td>3 months</td>\n",
       "      <td>Domestic Shorthair Mix</td>\n",
       "      <td>Brown Tabby</td>\n",
       "    </tr>\n",
       "    <tr>\n",
       "      <th>26726</th>\n",
       "      <td>A698128</td>\n",
       "      <td>Zeus</td>\n",
       "      <td>2015-03-09 13:33</td>\n",
       "      <td>Adoption</td>\n",
       "      <td>NaN</td>\n",
       "      <td>Dog</td>\n",
       "      <td>Neutered Male</td>\n",
       "      <td>4 years</td>\n",
       "      <td>Old English Bulldog Mix</td>\n",
       "      <td>White/Tan</td>\n",
       "    </tr>\n",
       "    <tr>\n",
       "      <th>26727</th>\n",
       "      <td>A677478</td>\n",
       "      <td>NaN</td>\n",
       "      <td>2014-04-27 12:22</td>\n",
       "      <td>Transfer</td>\n",
       "      <td>Partner</td>\n",
       "      <td>Cat</td>\n",
       "      <td>Intact Male</td>\n",
       "      <td>4 weeks</td>\n",
       "      <td>Domestic Shorthair Mix</td>\n",
       "      <td>Black</td>\n",
       "    </tr>\n",
       "    <tr>\n",
       "      <th>26728</th>\n",
       "      <td>A706629</td>\n",
       "      <td>NaN</td>\n",
       "      <td>2015-07-02 9:00</td>\n",
       "      <td>Transfer</td>\n",
       "      <td>SCRP</td>\n",
       "      <td>Cat</td>\n",
       "      <td>Intact Male</td>\n",
       "      <td>1 year</td>\n",
       "      <td>Domestic Shorthair Mix</td>\n",
       "      <td>Brown Tabby/White</td>\n",
       "    </tr>\n",
       "  </tbody>\n",
       "</table>\n",
       "</div>"
      ],
      "text/plain": [
       "      AnimalID  Name          DateTime OutcomeType OutcomeSubtype AnimalType  \\\n",
       "26724  A702446   NaN  2015-05-14 11:56    Transfer        Partner        Cat   \n",
       "26725  A718934   NaN  2016-01-20 18:59    Transfer           SCRP        Cat   \n",
       "26726  A698128  Zeus  2015-03-09 13:33    Adoption            NaN        Dog   \n",
       "26727  A677478   NaN  2014-04-27 12:22    Transfer        Partner        Cat   \n",
       "26728  A706629   NaN   2015-07-02 9:00    Transfer           SCRP        Cat   \n",
       "\n",
       "      SexuponOutcome AgeuponOutcome                    Breed  \\\n",
       "26724    Intact Male        1 month   Domestic Shorthair Mix   \n",
       "26725  Spayed Female       3 months   Domestic Shorthair Mix   \n",
       "26726  Neutered Male        4 years  Old English Bulldog Mix   \n",
       "26727    Intact Male        4 weeks   Domestic Shorthair Mix   \n",
       "26728    Intact Male         1 year   Domestic Shorthair Mix   \n",
       "\n",
       "                   Color  \n",
       "26724  Brown Tabby/White  \n",
       "26725        Brown Tabby  \n",
       "26726          White/Tan  \n",
       "26727              Black  \n",
       "26728  Brown Tabby/White  "
      ]
     },
     "execution_count": 2,
     "metadata": {},
     "output_type": "execute_result"
    }
   ],
   "source": [
    "train = pd.read_csv(\"data/train.csv\")\n",
    "test = pd.read_csv(\"data/test.csv\")\n",
    "train.tail() "
   ]
  },
  {
   "cell_type": "code",
   "execution_count": 3,
   "metadata": {},
   "outputs": [
    {
     "data": {
      "text/html": [
       "<div>\n",
       "<style>\n",
       "    .dataframe thead tr:only-child th {\n",
       "        text-align: right;\n",
       "    }\n",
       "\n",
       "    .dataframe thead th {\n",
       "        text-align: left;\n",
       "    }\n",
       "\n",
       "    .dataframe tbody tr th {\n",
       "        vertical-align: top;\n",
       "    }\n",
       "</style>\n",
       "<table border=\"1\" class=\"dataframe\">\n",
       "  <thead>\n",
       "    <tr style=\"text-align: right;\">\n",
       "      <th></th>\n",
       "      <th>AnimalID</th>\n",
       "      <th>Name</th>\n",
       "      <th>DateTime</th>\n",
       "      <th>OutcomeType</th>\n",
       "      <th>OutcomeSubtype</th>\n",
       "      <th>AnimalType</th>\n",
       "      <th>SexuponOutcome</th>\n",
       "      <th>AgeuponOutcome</th>\n",
       "      <th>Breed</th>\n",
       "      <th>Color</th>\n",
       "    </tr>\n",
       "  </thead>\n",
       "  <tbody>\n",
       "    <tr>\n",
       "      <th>count</th>\n",
       "      <td>26729</td>\n",
       "      <td>19038</td>\n",
       "      <td>26729</td>\n",
       "      <td>26729</td>\n",
       "      <td>13117</td>\n",
       "      <td>26729</td>\n",
       "      <td>26728</td>\n",
       "      <td>26711</td>\n",
       "      <td>26729</td>\n",
       "      <td>26729</td>\n",
       "    </tr>\n",
       "    <tr>\n",
       "      <th>unique</th>\n",
       "      <td>26729</td>\n",
       "      <td>6374</td>\n",
       "      <td>22918</td>\n",
       "      <td>5</td>\n",
       "      <td>16</td>\n",
       "      <td>2</td>\n",
       "      <td>5</td>\n",
       "      <td>44</td>\n",
       "      <td>1380</td>\n",
       "      <td>366</td>\n",
       "    </tr>\n",
       "    <tr>\n",
       "      <th>top</th>\n",
       "      <td>A695206</td>\n",
       "      <td>Max</td>\n",
       "      <td>2015-08-11 0:00</td>\n",
       "      <td>Adoption</td>\n",
       "      <td>Partner</td>\n",
       "      <td>Dog</td>\n",
       "      <td>Neutered Male</td>\n",
       "      <td>1 year</td>\n",
       "      <td>Domestic Shorthair Mix</td>\n",
       "      <td>Black/White</td>\n",
       "    </tr>\n",
       "    <tr>\n",
       "      <th>freq</th>\n",
       "      <td>1</td>\n",
       "      <td>136</td>\n",
       "      <td>19</td>\n",
       "      <td>10769</td>\n",
       "      <td>7816</td>\n",
       "      <td>15595</td>\n",
       "      <td>9779</td>\n",
       "      <td>3969</td>\n",
       "      <td>8810</td>\n",
       "      <td>2824</td>\n",
       "    </tr>\n",
       "  </tbody>\n",
       "</table>\n",
       "</div>"
      ],
      "text/plain": [
       "       AnimalID   Name         DateTime OutcomeType OutcomeSubtype AnimalType  \\\n",
       "count     26729  19038            26729       26729          13117      26729   \n",
       "unique    26729   6374            22918           5             16          2   \n",
       "top     A695206    Max  2015-08-11 0:00    Adoption        Partner        Dog   \n",
       "freq          1    136               19       10769           7816      15595   \n",
       "\n",
       "       SexuponOutcome AgeuponOutcome                   Breed        Color  \n",
       "count           26728          26711                   26729        26729  \n",
       "unique              5             44                    1380          366  \n",
       "top     Neutered Male         1 year  Domestic Shorthair Mix  Black/White  \n",
       "freq             9779           3969                    8810         2824  "
      ]
     },
     "execution_count": 3,
     "metadata": {},
     "output_type": "execute_result"
    }
   ],
   "source": [
    "train.describe()"
   ]
  },
  {
   "cell_type": "markdown",
   "metadata": {},
   "source": [
    "### NAN 값 확인"
   ]
  },
  {
   "cell_type": "code",
   "execution_count": 4,
   "metadata": {},
   "outputs": [
    {
     "name": "stdout",
     "output_type": "stream",
     "text": [
      "Nan cnt of AnimalID : 0\n",
      "Nan cnt of Name : 7691\n",
      "Nan cnt of DateTime : 0\n",
      "Nan cnt of OutcomeType : 0\n",
      "Nan cnt of OutcomeSubtype : 13612\n",
      "Nan cnt of AnimalType : 0\n",
      "Nan cnt of SexuponOutcome : 1\n",
      "Nan cnt of AgeuponOutcome : 18\n",
      "Nan cnt of Breed : 0\n",
      "Nan cnt of Color : 0\n",
      "total rows cnt:  267290\n"
     ]
    }
   ],
   "source": [
    "train.isnull().any()\n",
    "# Nan count 확인\n",
    "for i in train.columns:\n",
    "    print('Nan cnt of {} : {}'.format(i, format(train[i].isnull().sum())))\n",
    "    \n",
    "print('total rows cnt: ',train.size)"
   ]
  },
  {
   "cell_type": "markdown",
   "metadata": {},
   "source": [
    "## Outcome : 5 Categories  "
   ]
  },
  {
   "cell_type": "code",
   "execution_count": 9,
   "metadata": {},
   "outputs": [
    {
     "data": {
      "text/plain": [
       "OutcomeType\n",
       "Adoption           10769\n",
       "Died                 197\n",
       "Euthanasia          1555\n",
       "Return_to_owner     4786\n",
       "Transfer            9422\n",
       "Name: AnimalID, dtype: int64"
      ]
     },
     "execution_count": 9,
     "metadata": {},
     "output_type": "execute_result"
    },
    {
     "data": {
      "image/png": "[encoded data removed]",
      "text/plain": [
       "<matplotlib.figure.Figure at 0x18c4ff38668>"
      ]
     },
     "metadata": {},
     "output_type": "display_data"
    }
   ],
   "source": [
    "sns.countplot(train.OutcomeType, palette='Set3')\n",
    "train.groupby(\"OutcomeType\").count()['AnimalID']"
   ]
  },
  {
   "cell_type": "markdown",
   "metadata": {},
   "source": [
    "### OutcomeSubtype: Outcome 의 근거 (Nan:13612건)\n",
    "\n",
    "* Outcome에 큰영향을 미치나 Test set에는 없는 feature이고 Outcome이 나오는 시점에 발생 (feature 선택에서 탈락) "
   ]
  },
  {
   "cell_type": "code",
   "execution_count": 10,
   "metadata": {},
   "outputs": [
    {
     "data": {
      "text/html": [
       "<div>\n",
       "<style>\n",
       "    .dataframe thead tr:only-child th {\n",
       "        text-align: right;\n",
       "    }\n",
       "\n",
       "    .dataframe thead th {\n",
       "        text-align: left;\n",
       "    }\n",
       "\n",
       "    .dataframe tbody tr th {\n",
       "        vertical-align: top;\n",
       "    }\n",
       "</style>\n",
       "<table border=\"1\" class=\"dataframe\">\n",
       "  <thead>\n",
       "    <tr style=\"text-align: right;\">\n",
       "      <th></th>\n",
       "      <th></th>\n",
       "      <th>AnimalID</th>\n",
       "      <th>Name</th>\n",
       "      <th>DateTime</th>\n",
       "      <th>AnimalType</th>\n",
       "      <th>SexuponOutcome</th>\n",
       "      <th>AgeuponOutcome</th>\n",
       "      <th>Breed</th>\n",
       "      <th>Color</th>\n",
       "      <th>Date</th>\n",
       "      <th>Time</th>\n",
       "      <th>Weekday</th>\n",
       "      <th>Day</th>\n",
       "      <th>Month</th>\n",
       "      <th>Year</th>\n",
       "    </tr>\n",
       "    <tr>\n",
       "      <th>OutcomeType</th>\n",
       "      <th>OutcomeSubtype</th>\n",
       "      <th></th>\n",
       "      <th></th>\n",
       "      <th></th>\n",
       "      <th></th>\n",
       "      <th></th>\n",
       "      <th></th>\n",
       "      <th></th>\n",
       "      <th></th>\n",
       "      <th></th>\n",
       "      <th></th>\n",
       "      <th></th>\n",
       "      <th></th>\n",
       "      <th></th>\n",
       "      <th></th>\n",
       "    </tr>\n",
       "  </thead>\n",
       "  <tbody>\n",
       "    <tr>\n",
       "      <th rowspan=\"3\" valign=\"top\">Adoption</th>\n",
       "      <th>Barn</th>\n",
       "      <td>1</td>\n",
       "      <td>0</td>\n",
       "      <td>1</td>\n",
       "      <td>1</td>\n",
       "      <td>1</td>\n",
       "      <td>1</td>\n",
       "      <td>1</td>\n",
       "      <td>1</td>\n",
       "      <td>1</td>\n",
       "      <td>1</td>\n",
       "      <td>1</td>\n",
       "      <td>1</td>\n",
       "      <td>1</td>\n",
       "      <td>1</td>\n",
       "    </tr>\n",
       "    <tr>\n",
       "      <th>Foster</th>\n",
       "      <td>1800</td>\n",
       "      <td>1542</td>\n",
       "      <td>1800</td>\n",
       "      <td>1800</td>\n",
       "      <td>1800</td>\n",
       "      <td>1800</td>\n",
       "      <td>1800</td>\n",
       "      <td>1800</td>\n",
       "      <td>1800</td>\n",
       "      <td>1800</td>\n",
       "      <td>1800</td>\n",
       "      <td>1800</td>\n",
       "      <td>1800</td>\n",
       "      <td>1800</td>\n",
       "    </tr>\n",
       "    <tr>\n",
       "      <th>Offsite</th>\n",
       "      <td>165</td>\n",
       "      <td>132</td>\n",
       "      <td>165</td>\n",
       "      <td>165</td>\n",
       "      <td>165</td>\n",
       "      <td>165</td>\n",
       "      <td>165</td>\n",
       "      <td>165</td>\n",
       "      <td>165</td>\n",
       "      <td>165</td>\n",
       "      <td>165</td>\n",
       "      <td>165</td>\n",
       "      <td>165</td>\n",
       "      <td>165</td>\n",
       "    </tr>\n",
       "    <tr>\n",
       "      <th rowspan=\"5\" valign=\"top\">Died</th>\n",
       "      <th>At Vet</th>\n",
       "      <td>4</td>\n",
       "      <td>3</td>\n",
       "      <td>4</td>\n",
       "      <td>4</td>\n",
       "      <td>4</td>\n",
       "      <td>4</td>\n",
       "      <td>4</td>\n",
       "      <td>4</td>\n",
       "      <td>4</td>\n",
       "      <td>4</td>\n",
       "      <td>4</td>\n",
       "      <td>4</td>\n",
       "      <td>4</td>\n",
       "      <td>4</td>\n",
       "    </tr>\n",
       "    <tr>\n",
       "      <th>Enroute</th>\n",
       "      <td>8</td>\n",
       "      <td>1</td>\n",
       "      <td>8</td>\n",
       "      <td>8</td>\n",
       "      <td>8</td>\n",
       "      <td>8</td>\n",
       "      <td>8</td>\n",
       "      <td>8</td>\n",
       "      <td>8</td>\n",
       "      <td>8</td>\n",
       "      <td>8</td>\n",
       "      <td>8</td>\n",
       "      <td>8</td>\n",
       "      <td>8</td>\n",
       "    </tr>\n",
       "    <tr>\n",
       "      <th>In Foster</th>\n",
       "      <td>52</td>\n",
       "      <td>29</td>\n",
       "      <td>52</td>\n",
       "      <td>52</td>\n",
       "      <td>52</td>\n",
       "      <td>52</td>\n",
       "      <td>52</td>\n",
       "      <td>52</td>\n",
       "      <td>52</td>\n",
       "      <td>52</td>\n",
       "      <td>52</td>\n",
       "      <td>52</td>\n",
       "      <td>52</td>\n",
       "      <td>52</td>\n",
       "    </tr>\n",
       "    <tr>\n",
       "      <th>In Kennel</th>\n",
       "      <td>114</td>\n",
       "      <td>35</td>\n",
       "      <td>114</td>\n",
       "      <td>114</td>\n",
       "      <td>114</td>\n",
       "      <td>114</td>\n",
       "      <td>114</td>\n",
       "      <td>114</td>\n",
       "      <td>114</td>\n",
       "      <td>114</td>\n",
       "      <td>114</td>\n",
       "      <td>114</td>\n",
       "      <td>114</td>\n",
       "      <td>114</td>\n",
       "    </tr>\n",
       "    <tr>\n",
       "      <th>In Surgery</th>\n",
       "      <td>3</td>\n",
       "      <td>2</td>\n",
       "      <td>3</td>\n",
       "      <td>3</td>\n",
       "      <td>3</td>\n",
       "      <td>3</td>\n",
       "      <td>3</td>\n",
       "      <td>3</td>\n",
       "      <td>3</td>\n",
       "      <td>3</td>\n",
       "      <td>3</td>\n",
       "      <td>3</td>\n",
       "      <td>3</td>\n",
       "      <td>3</td>\n",
       "    </tr>\n",
       "    <tr>\n",
       "      <th rowspan=\"6\" valign=\"top\">Euthanasia</th>\n",
       "      <th>Aggressive</th>\n",
       "      <td>320</td>\n",
       "      <td>278</td>\n",
       "      <td>320</td>\n",
       "      <td>320</td>\n",
       "      <td>320</td>\n",
       "      <td>320</td>\n",
       "      <td>320</td>\n",
       "      <td>320</td>\n",
       "      <td>320</td>\n",
       "      <td>320</td>\n",
       "      <td>320</td>\n",
       "      <td>320</td>\n",
       "      <td>320</td>\n",
       "      <td>320</td>\n",
       "    </tr>\n",
       "    <tr>\n",
       "      <th>Behavior</th>\n",
       "      <td>86</td>\n",
       "      <td>74</td>\n",
       "      <td>86</td>\n",
       "      <td>86</td>\n",
       "      <td>86</td>\n",
       "      <td>86</td>\n",
       "      <td>86</td>\n",
       "      <td>86</td>\n",
       "      <td>86</td>\n",
       "      <td>86</td>\n",
       "      <td>86</td>\n",
       "      <td>86</td>\n",
       "      <td>86</td>\n",
       "      <td>86</td>\n",
       "    </tr>\n",
       "    <tr>\n",
       "      <th>Court/Investigation</th>\n",
       "      <td>6</td>\n",
       "      <td>6</td>\n",
       "      <td>6</td>\n",
       "      <td>6</td>\n",
       "      <td>6</td>\n",
       "      <td>6</td>\n",
       "      <td>6</td>\n",
       "      <td>6</td>\n",
       "      <td>6</td>\n",
       "      <td>6</td>\n",
       "      <td>6</td>\n",
       "      <td>6</td>\n",
       "      <td>6</td>\n",
       "      <td>6</td>\n",
       "    </tr>\n",
       "    <tr>\n",
       "      <th>Medical</th>\n",
       "      <td>66</td>\n",
       "      <td>38</td>\n",
       "      <td>66</td>\n",
       "      <td>66</td>\n",
       "      <td>66</td>\n",
       "      <td>66</td>\n",
       "      <td>66</td>\n",
       "      <td>66</td>\n",
       "      <td>66</td>\n",
       "      <td>66</td>\n",
       "      <td>66</td>\n",
       "      <td>66</td>\n",
       "      <td>66</td>\n",
       "      <td>66</td>\n",
       "    </tr>\n",
       "    <tr>\n",
       "      <th>Rabies Risk</th>\n",
       "      <td>74</td>\n",
       "      <td>43</td>\n",
       "      <td>74</td>\n",
       "      <td>74</td>\n",
       "      <td>74</td>\n",
       "      <td>74</td>\n",
       "      <td>74</td>\n",
       "      <td>74</td>\n",
       "      <td>74</td>\n",
       "      <td>74</td>\n",
       "      <td>74</td>\n",
       "      <td>74</td>\n",
       "      <td>74</td>\n",
       "      <td>74</td>\n",
       "    </tr>\n",
       "    <tr>\n",
       "      <th>Suffering</th>\n",
       "      <td>1002</td>\n",
       "      <td>301</td>\n",
       "      <td>1002</td>\n",
       "      <td>1002</td>\n",
       "      <td>1002</td>\n",
       "      <td>1000</td>\n",
       "      <td>1002</td>\n",
       "      <td>1002</td>\n",
       "      <td>1002</td>\n",
       "      <td>1002</td>\n",
       "      <td>1002</td>\n",
       "      <td>1002</td>\n",
       "      <td>1002</td>\n",
       "      <td>1002</td>\n",
       "    </tr>\n",
       "    <tr>\n",
       "      <th rowspan=\"3\" valign=\"top\">Transfer</th>\n",
       "      <th>Barn</th>\n",
       "      <td>1</td>\n",
       "      <td>1</td>\n",
       "      <td>1</td>\n",
       "      <td>1</td>\n",
       "      <td>1</td>\n",
       "      <td>1</td>\n",
       "      <td>1</td>\n",
       "      <td>1</td>\n",
       "      <td>1</td>\n",
       "      <td>1</td>\n",
       "      <td>1</td>\n",
       "      <td>1</td>\n",
       "      <td>1</td>\n",
       "      <td>1</td>\n",
       "    </tr>\n",
       "    <tr>\n",
       "      <th>Partner</th>\n",
       "      <td>7816</td>\n",
       "      <td>4436</td>\n",
       "      <td>7816</td>\n",
       "      <td>7816</td>\n",
       "      <td>7816</td>\n",
       "      <td>7816</td>\n",
       "      <td>7816</td>\n",
       "      <td>7816</td>\n",
       "      <td>7816</td>\n",
       "      <td>7816</td>\n",
       "      <td>7816</td>\n",
       "      <td>7816</td>\n",
       "      <td>7816</td>\n",
       "      <td>7816</td>\n",
       "    </tr>\n",
       "    <tr>\n",
       "      <th>SCRP</th>\n",
       "      <td>1599</td>\n",
       "      <td>58</td>\n",
       "      <td>1599</td>\n",
       "      <td>1599</td>\n",
       "      <td>1599</td>\n",
       "      <td>1583</td>\n",
       "      <td>1599</td>\n",
       "      <td>1599</td>\n",
       "      <td>1599</td>\n",
       "      <td>1599</td>\n",
       "      <td>1599</td>\n",
       "      <td>1599</td>\n",
       "      <td>1599</td>\n",
       "      <td>1599</td>\n",
       "    </tr>\n",
       "  </tbody>\n",
       "</table>\n",
       "</div>"
      ],
      "text/plain": [
       "                                 AnimalID  Name  DateTime  AnimalType  \\\n",
       "OutcomeType OutcomeSubtype                                              \n",
       "Adoption    Barn                        1     0         1           1   \n",
       "            Foster                   1800  1542      1800        1800   \n",
       "            Offsite                   165   132       165         165   \n",
       "Died        At Vet                      4     3         4           4   \n",
       "            Enroute                     8     1         8           8   \n",
       "            In Foster                  52    29        52          52   \n",
       "            In Kennel                 114    35       114         114   \n",
       "            In Surgery                  3     2         3           3   \n",
       "Euthanasia  Aggressive                320   278       320         320   \n",
       "            Behavior                   86    74        86          86   \n",
       "            Court/Investigation         6     6         6           6   \n",
       "            Medical                    66    38        66          66   \n",
       "            Rabies Risk                74    43        74          74   \n",
       "            Suffering                1002   301      1002        1002   \n",
       "Transfer    Barn                        1     1         1           1   \n",
       "            Partner                  7816  4436      7816        7816   \n",
       "            SCRP                     1599    58      1599        1599   \n",
       "\n",
       "                                 SexuponOutcome  AgeuponOutcome  Breed  Color  \\\n",
       "OutcomeType OutcomeSubtype                                                      \n",
       "Adoption    Barn                              1               1      1      1   \n",
       "            Foster                         1800            1800   1800   1800   \n",
       "            Offsite                         165             165    165    165   \n",
       "Died        At Vet                            4               4      4      4   \n",
       "            Enroute                           8               8      8      8   \n",
       "            In Foster                        52              52     52     52   \n",
       "            In Kennel                       114             114    114    114   \n",
       "            In Surgery                        3               3      3      3   \n",
       "Euthanasia  Aggressive                      320             320    320    320   \n",
       "            Behavior                         86              86     86     86   \n",
       "            Court/Investigation               6               6      6      6   \n",
       "            Medical                          66              66     66     66   \n",
       "            Rabies Risk                      74              74     74     74   \n",
       "            Suffering                      1002            1000   1002   1002   \n",
       "Transfer    Barn                              1               1      1      1   \n",
       "            Partner                        7816            7816   7816   7816   \n",
       "            SCRP                           1599            1583   1599   1599   \n",
       "\n",
       "                                 Date  Time  Weekday   Day  Month  Year  \n",
       "OutcomeType OutcomeSubtype                                               \n",
       "Adoption    Barn                    1     1        1     1      1     1  \n",
       "            Foster               1800  1800     1800  1800   1800  1800  \n",
       "            Offsite               165   165      165   165    165   165  \n",
       "Died        At Vet                  4     4        4     4      4     4  \n",
       "            Enroute                 8     8        8     8      8     8  \n",
       "            In Foster              52    52       52    52     52    52  \n",
       "            In Kennel             114   114      114   114    114   114  \n",
       "            In Surgery              3     3        3     3      3     3  \n",
       "Euthanasia  Aggressive            320   320      320   320    320   320  \n",
       "            Behavior               86    86       86    86     86    86  \n",
       "            Court/Investigation     6     6        6     6      6     6  \n",
       "            Medical                66    66       66    66     66    66  \n",
       "            Rabies Risk            74    74       74    74     74    74  \n",
       "            Suffering            1002  1002     1002  1002   1002  1002  \n",
       "Transfer    Barn                    1     1        1     1      1     1  \n",
       "            Partner              7816  7816     7816  7816   7816  7816  \n",
       "            SCRP                 1599  1599     1599  1599   1599  1599  "
      ]
     },
     "execution_count": 10,
     "metadata": {},
     "output_type": "execute_result"
    }
   ],
   "source": [
    "# count of OutcomeSubtype\n",
    "train.groupby(['OutcomeType', 'OutcomeSubtype']).count()"
   ]
  },
  {
   "cell_type": "code",
   "execution_count": 70,
   "metadata": {},
   "outputs": [
    {
     "data": {
      "image/png": "[encoded data removed]",
      "text/plain": [
       "<matplotlib.figure.Figure at 0x18c541adf60>"
      ]
     },
     "metadata": {},
     "output_type": "display_data"
    }
   ],
   "source": [
    "## 안락사의 경우 subtype 이유 \n",
    "## 1. 고통, 지병\n",
    "## 2. 공격적인 성향 또는 행동문제\n",
    "## 3. 광견병 또는 전염병의 Medical 의 이유 \n",
    "## 4. 위법, 법적인 문제 \n",
    "\n",
    "euthanasia = train[train[\"OutcomeType\"] == \"Euthanasia\"] \n",
    "subtype = euthanasia[\"OutcomeSubtype\"].value_counts()\n",
    "\n",
    "suffering = subtype[\"Suffering\"]\n",
    "behaviour = subtype[\"Aggressive\"] +subtype[\"Behavior\"]\n",
    "medical = subtype[\"Rabies Risk\"] + subtype[\"Medical\"] \n",
    "Court = subtype[\"Court/Investigation\"] ## 법적문제\n",
    "\n",
    "\n",
    "subtype_list = [suffering,behaviour,medical,Court]\n",
    "list_names = [\"Suffering\",\"Behaviour\",\"Medical\",\"Court\"]\n",
    "ind2 = np.arange(len(subtype_list))\n",
    "\n",
    "plt.bar(ind2,subtype_list)\n",
    "plt.xticks(ind2,list_names, rotation = 90)\n",
    "plt.show()"
   ]
  },
  {
   "cell_type": "markdown",
   "metadata": {},
   "source": [
    "## Features Insight 분석"
   ]
  },
  {
   "cell_type": "markdown",
   "metadata": {},
   "source": [
    "### DateTime : Outcome이 실행된 시간 (Feature 채택에서 탈락)"
   ]
  },
  {
   "cell_type": "code",
   "execution_count": 5,
   "metadata": {
    "collapsed": true
   },
   "outputs": [],
   "source": [
    "import datetime\n",
    "\n",
    "def date(x):\n",
    "    x = str(x)\n",
    "    date = x.split(' ')[0]\n",
    "    return date \n",
    "\n",
    "def time(x):\n",
    "    x = str(x)\n",
    "    x = x.split(' ')[1]\n",
    "    time =x.split(':')[0]\n",
    "    return time \n",
    "\n",
    "\n",
    "train['Date']=train['DateTime'].apply(date)\n",
    "train['Time']=train['DateTime'].apply(time)   "
   ]
  },
  {
   "cell_type": "code",
   "execution_count": 6,
   "metadata": {},
   "outputs": [],
   "source": [
    "import datetime\n",
    "\n",
    "def year(x):\n",
    "    x=str(x)\n",
    "    year =int(x.split('-')[0])\n",
    "    #day=int(x.split('-')[2])\n",
    "    ## MON = 0, TUE = 1, WED = 2....\n",
    "    return year\n",
    "\n",
    "def month(x):\n",
    "    x=str(x)\n",
    "    month =int(x.split('-')[1])\n",
    "    #day=int(x.split('-')[2])\n",
    "    ## MON = 0, TUE = 1, WED = 2....\n",
    "    return month\n",
    "    \n",
    "    \n",
    "def day(x):\n",
    "    x=str(x)\n",
    "    #month =int(x.split('-')[1])\n",
    "    day=int(x.split('-')[2])\n",
    "    ## MON = 0, TUE = 1, WED = 2....\n",
    "    return day\n",
    "\n",
    "def weekday(x):\n",
    "    x=str(x)\n",
    "    dayString =[\"MON\",\"TUE\",\"WED\",\"THU\",\"FRI\",\"SAT\",\"SUN\"]\n",
    "    year =int(x.split('-')[0])\n",
    "    month =int(x.split('-')[1])\n",
    "    date=int(x.split('-')[2])\n",
    "    ## MON = 0, TUE = 1, WED = 2....\n",
    "    return dayString[datetime.date(year,month,date).weekday()]\n",
    "\n",
    "train['Weekday']=train['Date'].apply(weekday)\n",
    "train['Day']=train['Date'].apply(day)\n",
    "train['Month']=train['Date'].apply(month)\n",
    "train['Year']=train['Date'].apply(year)\n"
   ]
  },
  {
   "cell_type": "code",
   "execution_count": 7,
   "metadata": {},
   "outputs": [
    {
     "data": {
      "text/plain": [
       "Year\n",
       "2013     2702\n",
       "2014    11179\n",
       "2015    11481\n",
       "2016     1367\n",
       "dtype: int64"
      ]
     },
     "execution_count": 7,
     "metadata": {},
     "output_type": "execute_result"
    },
    {
     "data": {
      "image/png": "[encoded data removed]",
      "text/plain": [
       "<matplotlib.figure.Figure at 0x18c4fa9bc88>"
      ]
     },
     "metadata": {},
     "output_type": "display_data"
    }
   ],
   "source": [
    "sns.countplot(x='Year',data=train)\n",
    "x = train.groupby('Year').size()\n",
    "x"
   ]
  },
  {
   "cell_type": "code",
   "execution_count": 8,
   "metadata": {},
   "outputs": [
    {
     "data": {
      "text/plain": [
       "Month\n",
       "1     2334\n",
       "2     1873\n",
       "3     1498\n",
       "4     1689\n",
       "5     2094\n",
       "6     2319\n",
       "7     2506\n",
       "8     2172\n",
       "9     2004\n",
       "10    2881\n",
       "11    2668\n",
       "12    2691\n",
       "dtype: int64"
      ]
     },
     "execution_count": 8,
     "metadata": {},
     "output_type": "execute_result"
    },
    {
     "data": {
      "image/png": "[encoded data removed]",
      "text/plain": [
       "<matplotlib.figure.Figure at 0x18c4a6df240>"
      ]
     },
     "metadata": {},
     "output_type": "display_data"
    }
   ],
   "source": [
    "sns.countplot(x='Month',data=train)\n",
    "train.groupby('Month').size()"
   ]
  },
  {
   "cell_type": "markdown",
   "metadata": {},
   "source": [
    "## Animal Type : 2 Categories\n",
    "\n",
    "### Cats = 11134, Dogs = 15595, Total = 26728"
   ]
  },
  {
   "cell_type": "code",
   "execution_count": 12,
   "metadata": {},
   "outputs": [
    {
     "data": {
      "text/html": [
       "<div>\n",
       "<style>\n",
       "    .dataframe thead tr:only-child th {\n",
       "        text-align: right;\n",
       "    }\n",
       "\n",
       "    .dataframe thead th {\n",
       "        text-align: left;\n",
       "    }\n",
       "\n",
       "    .dataframe tbody tr th {\n",
       "        vertical-align: top;\n",
       "    }\n",
       "</style>\n",
       "<table border=\"1\" class=\"dataframe\">\n",
       "  <thead>\n",
       "    <tr style=\"text-align: right;\">\n",
       "      <th></th>\n",
       "      <th>AnimalID</th>\n",
       "      <th>Name</th>\n",
       "      <th>DateTime</th>\n",
       "      <th>OutcomeType</th>\n",
       "      <th>OutcomeSubtype</th>\n",
       "      <th>SexuponOutcome</th>\n",
       "      <th>AgeuponOutcome</th>\n",
       "      <th>Breed</th>\n",
       "      <th>Color</th>\n",
       "      <th>Date</th>\n",
       "      <th>Time</th>\n",
       "      <th>Weekday</th>\n",
       "      <th>Day</th>\n",
       "      <th>Month</th>\n",
       "      <th>Year</th>\n",
       "    </tr>\n",
       "    <tr>\n",
       "      <th>AnimalType</th>\n",
       "      <th></th>\n",
       "      <th></th>\n",
       "      <th></th>\n",
       "      <th></th>\n",
       "      <th></th>\n",
       "      <th></th>\n",
       "      <th></th>\n",
       "      <th></th>\n",
       "      <th></th>\n",
       "      <th></th>\n",
       "      <th></th>\n",
       "      <th></th>\n",
       "      <th></th>\n",
       "      <th></th>\n",
       "      <th></th>\n",
       "    </tr>\n",
       "  </thead>\n",
       "  <tbody>\n",
       "    <tr>\n",
       "      <th>Cat</th>\n",
       "      <td>11134</td>\n",
       "      <td>6115</td>\n",
       "      <td>11134</td>\n",
       "      <td>11134</td>\n",
       "      <td>7511</td>\n",
       "      <td>11134</td>\n",
       "      <td>11117</td>\n",
       "      <td>11134</td>\n",
       "      <td>11134</td>\n",
       "      <td>11134</td>\n",
       "      <td>11134</td>\n",
       "      <td>11134</td>\n",
       "      <td>11134</td>\n",
       "      <td>11134</td>\n",
       "      <td>11134</td>\n",
       "    </tr>\n",
       "    <tr>\n",
       "      <th>Dog</th>\n",
       "      <td>15595</td>\n",
       "      <td>12923</td>\n",
       "      <td>15595</td>\n",
       "      <td>15595</td>\n",
       "      <td>5606</td>\n",
       "      <td>15594</td>\n",
       "      <td>15594</td>\n",
       "      <td>15595</td>\n",
       "      <td>15595</td>\n",
       "      <td>15595</td>\n",
       "      <td>15595</td>\n",
       "      <td>15595</td>\n",
       "      <td>15595</td>\n",
       "      <td>15595</td>\n",
       "      <td>15595</td>\n",
       "    </tr>\n",
       "  </tbody>\n",
       "</table>\n",
       "</div>"
      ],
      "text/plain": [
       "            AnimalID   Name  DateTime  OutcomeType  OutcomeSubtype  \\\n",
       "AnimalType                                                           \n",
       "Cat            11134   6115     11134        11134            7511   \n",
       "Dog            15595  12923     15595        15595            5606   \n",
       "\n",
       "            SexuponOutcome  AgeuponOutcome  Breed  Color   Date   Time  \\\n",
       "AnimalType                                                               \n",
       "Cat                  11134           11117  11134  11134  11134  11134   \n",
       "Dog                  15594           15594  15595  15595  15595  15595   \n",
       "\n",
       "            Weekday    Day  Month   Year  \n",
       "AnimalType                                \n",
       "Cat           11134  11134  11134  11134  \n",
       "Dog           15595  15595  15595  15595  "
      ]
     },
     "execution_count": 12,
     "metadata": {},
     "output_type": "execute_result"
    }
   ],
   "source": [
    "train.groupby(\"AnimalType\").count() \n",
    "## Cats = 11134, Dogs = 15595"
   ]
  },
  {
   "cell_type": "code",
   "execution_count": 13,
   "metadata": {},
   "outputs": [
    {
     "data": {
      "text/plain": [
       "AnimalType\n",
       "Cat    11134\n",
       "Dog    15595\n",
       "dtype: int64"
      ]
     },
     "execution_count": 13,
     "metadata": {},
     "output_type": "execute_result"
    },
    {
     "data": {
      "image/png": "[encoded data removed]",
      "text/plain": [
       "<matplotlib.figure.Figure at 0x18c4ffc9908>"
      ]
     },
     "metadata": {},
     "output_type": "display_data"
    }
   ],
   "source": [
    "sns.countplot(train.AnimalType, palette='Set3')\n",
    "train.groupby('AnimalType').size()\n"
   ]
  },
  {
   "cell_type": "code",
   "execution_count": 76,
   "metadata": {},
   "outputs": [
    {
     "data": {
      "text/plain": [
       "OutcomeType      AnimalType\n",
       "Adoption         Cat           4272\n",
       "                 Dog           6497\n",
       "Died             Cat            147\n",
       "                 Dog             50\n",
       "Euthanasia       Cat            710\n",
       "                 Dog            845\n",
       "Return_to_owner  Cat            500\n",
       "                 Dog           4286\n",
       "Transfer         Cat           5505\n",
       "                 Dog           3917\n",
       "dtype: int64"
      ]
     },
     "execution_count": 76,
     "metadata": {},
     "output_type": "execute_result"
    },
    {
     "data": {
      "image/png": "[encoded data removed]",
      "text/plain": [
       "<matplotlib.figure.Figure at 0x18c35e945f8>"
      ]
     },
     "metadata": {},
     "output_type": "display_data"
    }
   ],
   "source": [
    "sns.countplot(data=train, x ='OutcomeType',hue='AnimalType',palette='Set3')\n",
    "train.groupby(['OutcomeType','AnimalType']).size()\n",
    "## Dog의 경우  Return to Owner, Adoption이 많으나 고양이의 경우 Trasfer가 많음 "
   ]
  },
  {
   "cell_type": "markdown",
   "metadata": {},
   "source": [
    "## SexuponOutcome: 5 Categories"
   ]
  },
  {
   "cell_type": "code",
   "execution_count": 15,
   "metadata": {},
   "outputs": [
    {
     "data": {
      "text/plain": [
       "SexuponOutcome\n",
       "Neutered Male    9779\n",
       "Spayed Female    8820\n",
       "Intact Male      3525\n",
       "Intact Female    3511\n",
       "Unknown          1093\n",
       "dtype: int64"
      ]
     },
     "execution_count": 15,
     "metadata": {},
     "output_type": "execute_result"
    },
    {
     "data": {
      "image/png": "[encoded data removed]",
      "text/plain": [
       "<matplotlib.figure.Figure at 0x18c4ff68518>"
      ]
     },
     "metadata": {},
     "output_type": "display_data"
    }
   ],
   "source": [
    "sns.countplot(train.SexuponOutcome, palette='Set3')\n",
    "train.groupby('SexuponOutcome').size().sort_values(ascending = False)\n",
    "## Unknown : 1093건 "
   ]
  },
  {
   "cell_type": "code",
   "execution_count": 16,
   "metadata": {},
   "outputs": [
    {
     "data": {
      "text/plain": [
       "SexuponOutcome  OutcomeType    \n",
       "Intact Female   Adoption            203\n",
       "                Died                 56\n",
       "                Euthanasia          401\n",
       "                Return_to_owner     301\n",
       "                Transfer           2550\n",
       "Intact Male     Adoption            158\n",
       "                Died                 79\n",
       "                Euthanasia          477\n",
       "                Return_to_owner     477\n",
       "                Transfer           2334\n",
       "Neutered Male   Adoption           5222\n",
       "                Died                 19\n",
       "                Euthanasia          344\n",
       "                Return_to_owner    2247\n",
       "                Transfer           1947\n",
       "Spayed Female   Adoption           5186\n",
       "                Died                 18\n",
       "                Euthanasia          232\n",
       "                Return_to_owner    1748\n",
       "                Transfer           1636\n",
       "Unknown         Died                 25\n",
       "                Euthanasia          101\n",
       "                Return_to_owner      12\n",
       "                Transfer            955\n",
       "dtype: int64"
      ]
     },
     "execution_count": 16,
     "metadata": {},
     "output_type": "execute_result"
    },
    {
     "data": {
      "image/png": "[encoded data removed]",
      "text/plain": [
       "<matplotlib.figure.Figure at 0x18c4fa93b38>"
      ]
     },
     "metadata": {},
     "output_type": "display_data"
    }
   ],
   "source": [
    "sns.countplot(x=train.SexuponOutcome,hue=train.OutcomeType, palette='Set3')\n",
    "train.groupby(['SexuponOutcome','OutcomeType']).size()\n",
    "## 중성화 되었을경우 Return to Owner, Adoption case가 많음 \n",
    "## 중성화가 안된경우 transfer 높음, 안락사도 1.5배 이상\n",
    "## Unknown 의 경우 transfer의 경우가 제일 높음 "
   ]
  },
  {
   "cell_type": "code",
   "execution_count": 17,
   "metadata": {
    "collapsed": true
   },
   "outputs": [],
   "source": [
    "def sex(x):\n",
    "    x = str(x)\n",
    "    if x.find(\"Male\") >=0: return 'Male'\n",
    "    if x.find(\"Female\") >=0 : return 'Female'\n",
    "    return 'Unknwon' ## Imputing: Unknown\n",
    "def neutered(x):\n",
    "    x = str(x)\n",
    "    if x.find('Spayed')>=0: return 'Neutered'\n",
    "    if x.find('Neutered')>=0: return 'Neutered'\n",
    "    if x.find('Intact')>=0: return'Intact'\n",
    "    return 'Unknwon' ## imputing: Unknown"
   ]
  },
  {
   "cell_type": "code",
   "execution_count": 18,
   "metadata": {
    "collapsed": true
   },
   "outputs": [],
   "source": [
    "train['Sex'] = train.SexuponOutcome.apply(sex)\n",
    "train['Neutered'] = train.SexuponOutcome.apply(neutered)    "
   ]
  },
  {
   "cell_type": "code",
   "execution_count": 19,
   "metadata": {},
   "outputs": [
    {
     "data": {
      "text/plain": [
       "<matplotlib.axes._subplots.AxesSubplot at 0x18c4ff29748>"
      ]
     },
     "execution_count": 19,
     "metadata": {},
     "output_type": "execute_result"
    },
    {
     "data": {
      "image/png": "[encoded data removed]",
      "text/plain": [
       "<matplotlib.figure.Figure at 0x18c4ff70eb8>"
      ]
     },
     "metadata": {},
     "output_type": "display_data"
    }
   ],
   "source": [
    "sns.countplot(data = train, y = 'Neutered', hue = 'OutcomeType') \n",
    "## 중성화 수술 하면 Adoption, Return to Owener의 경우가 늘어남\n",
    "## 중성화가 안되거나 Unknown인경우 transfer가 상대적으로 높음 "
   ]
  },
  {
   "cell_type": "code",
   "execution_count": 20,
   "metadata": {},
   "outputs": [
    {
     "data": {
      "text/plain": [
       "<matplotlib.axes._subplots.AxesSubplot at 0x18c5082b550>"
      ]
     },
     "execution_count": 20,
     "metadata": {},
     "output_type": "execute_result"
    },
    {
     "data": {
      "image/png": "[encoded data removed]",
      "text/plain": [
       "<matplotlib.figure.Figure at 0x18c503a26d8>"
      ]
     },
     "metadata": {},
     "output_type": "display_data"
    }
   ],
   "source": [
    "sns.countplot(data = train, y = 'Sex', hue = 'OutcomeType') ## 별다른 차이 없음"
   ]
  },
  {
   "cell_type": "markdown",
   "metadata": {},
   "source": [
    "## Color: 366 Categories"
   ]
  },
  {
   "cell_type": "code",
   "execution_count": 21,
   "metadata": {
    "collapsed": true
   },
   "outputs": [],
   "source": [
    "color = train[\"Color\"]\n",
    "len(color.unique())"
   ]
  },
  {
   "cell_type": "code",
   "execution_count": 23,
   "metadata": {
    "collapsed": true
   },
   "outputs": [],
   "source": [
    "div_color = []\n",
    "for i in color:\n",
    "    i = i.split(\"/\")[0]\n",
    "    div_color.append(i)"
   ]
  },
  {
   "cell_type": "code",
   "execution_count": 24,
   "metadata": {
    "collapsed": true
   },
   "outputs": [],
   "source": [
    "def color1(x):\n",
    "    if x.find(\"/\") >= 1 : return x.split(\"/\")[0]\n",
    "    if x.find(\" \") >= 1: return x.split(\" \")[0]\n",
    "    else: return x\n"
   ]
  },
  {
   "cell_type": "code",
   "execution_count": 25,
   "metadata": {
    "collapsed": true
   },
   "outputs": [],
   "source": [
    "train[\"Color1\"] = train[\"Color\"].apply(color1)\n"
   ]
  },
  {
   "cell_type": "code",
   "execution_count": 26,
   "metadata": {
    "collapsed": true
   },
   "outputs": [],
   "source": [
    "def color_maj(x):\n",
    "    brown_color = [\"Brown\", \"Apricot\", \"Buff\", \"Chocolate\", 'Chocolate Point',\n",
    "                   \"Ruddy\", \"Liver\" ,'Brown Brindle','Brown Tabby','Brown Merle','Liver','Liver Tick','Brown Merle', 'Brown Tiger']\n",
    "    lig_brown_color = [\"Fawn\", \"Gold\",  \"Tan\", \"Yellow\",'Orange Tabby','Orange', 'Agouti']\n",
    "    black_color = [\"Black\", \"Flame\",'Black Tabby','Black Smoke','Black Brindle','Black Tiger']\n",
    "    white_color = [\"White\", \"Cream\", \"Lynx\",'Cream Tabby']\n",
    "    lig_black_color = [\"Gray\", \"Lilac\", \"Silver\",'Seal','Seal Point','Gray Tabby','Silver Tabby']\n",
    "    rare_color = [\"Blue\", \"Tricolor\", \"Calico\", \"Sable\", \"Pink\", \"Torbie\", \"Tortie\",'Tortie Point',\n",
    "                  \"Agouti\",'Tricolor', 'Red','Yellow','Blue Tabby','Buff','Blue Smoke','Pink',\n",
    "                  'Yellow Brindle','Red Tick','Sable','Apricot','Red Merle', 'Blue Merle',\n",
    "                 'Lynx Point', 'Lilac', 'Lynx','Blue Tiger','Blue Cream','Calico Point','Blue Tick', 'Blue Point']\n",
    "        \n",
    "    if x in brown_color: return \"Brown\"\n",
    "    if x in lig_brown_color: return \"Light Brown\"\n",
    "    if x in black_color: return \"Black\"\n",
    "    if x in lig_black_color: return \"Light Black\"\n",
    "    if x in white_color: return \"White\"\n",
    "    if x in rare_color: return \"Rare Color\"\n",
    "    \n"
   ]
  },
  {
   "cell_type": "code",
   "execution_count": 27,
   "metadata": {},
   "outputs": [
    {
     "data": {
      "text/plain": [
       "array(['Brown', 'White', 'Rare Color', 'Light Brown', 'Black',\n",
       "       'Light Black'], dtype=object)"
      ]
     },
     "execution_count": 27,
     "metadata": {},
     "output_type": "execute_result"
    }
   ],
   "source": [
    "train['Color2']=train[\"Color1\"].apply(color_maj)\n",
    "\n",
    "train.Color2.unique()\n",
    "## 총 6그룹으로 분류 "
   ]
  },
  {
   "cell_type": "code",
   "execution_count": 28,
   "metadata": {},
   "outputs": [
    {
     "data": {
      "text/plain": [
       "<matplotlib.axes._subplots.AxesSubplot at 0x18c50dfc390>"
      ]
     },
     "execution_count": 28,
     "metadata": {},
     "output_type": "execute_result"
    },
    {
     "data": {
      "image/png": "[encoded data removed]",
      "text/plain": [
       "<matplotlib.figure.Figure at 0x18c50dfc748>"
      ]
     },
     "metadata": {},
     "output_type": "display_data"
    }
   ],
   "source": [
    "sns.countplot(data=train, y='Color2',hue='OutcomeType')\n",
    "## light black 의 카테고리 값 빼고 대부분 같은 특성을 보임 "
   ]
  },
  {
   "cell_type": "markdown",
   "metadata": {},
   "source": [
    "## Age : 1day~ 20 years까지 다양 "
   ]
  },
  {
   "cell_type": "code",
   "execution_count": 29,
   "metadata": {},
   "outputs": [
    {
     "data": {
      "text/plain": [
       "<matplotlib.axes._subplots.AxesSubplot at 0x18c50dfcc50>"
      ]
     },
     "execution_count": 29,
     "metadata": {},
     "output_type": "execute_result"
    },
    {
     "data": {
      "image/png": "[encoded data removed]",
      "text/plain": [
       "<matplotlib.figure.Figure at 0x18c50880160>"
      ]
     },
     "metadata": {},
     "output_type": "display_data"
    }
   ],
   "source": [
    "sns.countplot(y = train.AgeuponOutcome) ## Original Data\n",
    "## Nan값:18 건, Unknown: 0건 , 0 years: 22 건 "
   ]
  },
  {
   "cell_type": "code",
   "execution_count": 66,
   "metadata": {},
   "outputs": [
    {
     "data": {
      "text/plain": [
       "(array([  280,  1734,  2474,  3195,  4051,  4209,  4398,  5256,  5443,\n",
       "         7609,  9144, 10699, 12982, 13108, 15399, 15605, 16745, 18404,\n",
       "        19203, 19626, 21891, 22911], dtype=int64),)"
      ]
     },
     "execution_count": 66,
     "metadata": {},
     "output_type": "execute_result"
    }
   ],
   "source": [
    "np.where(train['AgeuponOutcome']=='0 years')"
   ]
  },
  {
   "cell_type": "code",
   "execution_count": 31,
   "metadata": {
    "collapsed": true
   },
   "outputs": [],
   "source": [
    "def Ageimputer(x):\n",
    "    x = str(x)\n",
    "    if x.lower() == 'nan': return '3 years' #int(np.mean(train['AgeInYears']))\n",
    "    else: return x\n",
    "    "
   ]
  },
  {
   "cell_type": "code",
   "execution_count": 67,
   "metadata": {},
   "outputs": [],
   "source": [
    "train['AgeuponOutcome'] = train['AgeuponOutcome'].apply(Ageimputer)\n"
   ]
  },
  {
   "cell_type": "code",
   "execution_count": 33,
   "metadata": {
    "collapsed": true
   },
   "outputs": [],
   "source": [
    "def calc_age_in_years(x):\n",
    "    x = str(x)\n",
    "    age = int(x.split()[0])\n",
    "    if x.find('year') > -1: \n",
    "        if age ==0: return 0.1 ## 0 years 로 표시 되어있는 동물들 22 마리 0.1로 변환 \n",
    "        else: return age\n",
    "    elif x.find('month')> -1:\n",
    "        if age <=6: return 0.5 ## 6개월미만 float 0.5로 변환 \n",
    "        else:\n",
    "            return 1\n",
    "    elif x.find('week')> -1: return 0.1#float('{:.1f}'.format(int(x.split()[0])/52)) ## float 0.1 로 변형 \n",
    "    elif x.find('day')> -1: return 0.1 #float('{:.1f}'.format(int(x.split()[0])/52)) ## float 0.1 로 변형\n",
    "    else: return np.mean(x)\n"
   ]
  },
  {
   "cell_type": "code",
   "execution_count": 34,
   "metadata": {
    "collapsed": true
   },
   "outputs": [],
   "source": [
    "train['AgeInYears'] = train['AgeuponOutcome'].apply(calc_age_in_years)"
   ]
  },
  {
   "cell_type": "code",
   "execution_count": 35,
   "metadata": {},
   "outputs": [
    {
     "data": {
      "text/plain": [
       "(array([], dtype=int64),)"
      ]
     },
     "execution_count": 35,
     "metadata": {},
     "output_type": "execute_result"
    }
   ],
   "source": [
    "np.where(train['AgeInYears']==0.0) ## 0살 샘플 확인 필요 0 years ## 대부분 Transfer, some are Euthanasia or Died"
   ]
  },
  {
   "cell_type": "code",
   "execution_count": 36,
   "metadata": {},
   "outputs": [
    {
     "data": {
      "text/plain": [
       "<matplotlib.axes._subplots.AxesSubplot at 0x18c4ff83710>"
      ]
     },
     "execution_count": 36,
     "metadata": {},
     "output_type": "execute_result"
    },
    {
     "data": {
      "image/png": "[encoded data removed]",
      "text/plain": [
       "<matplotlib.figure.Figure at 0x18c5036f6a0>"
      ]
     },
     "metadata": {},
     "output_type": "display_data"
    }
   ],
   "source": [
    "sns.countplot(train.AgeInYears)"
   ]
  },
  {
   "cell_type": "code",
   "execution_count": 81,
   "metadata": {},
   "outputs": [
    {
     "data": {
      "text/plain": [
       "<matplotlib.axes._subplots.AxesSubplot at 0x18c55e7b438>"
      ]
     },
     "execution_count": 81,
     "metadata": {},
     "output_type": "execute_result"
    },
    {
     "data": {
      "image/png": "[encoded data removed]",
      "text/plain": [
       "<matplotlib.figure.Figure at 0x18c349b7518>"
      ]
     },
     "metadata": {},
     "output_type": "display_data"
    }
   ],
   "source": [
    "sns.countplot(data=train, x='AgeInYears',hue='OutcomeType')## 결과에 따른 나이\n",
    "## 한달미만의 개체는 Transfer가 높으며 6개월미만의 개체들은 Adoption비율이 높다 \n",
    "## 1년이상의 개체는 Return to Owner의 비율이 1년미만의 개체보다 상대적으로 높다. \n",
    "#train.groupby(['AgeInYears','OutcomeType']).size()"
   ]
  },
  {
   "cell_type": "code",
   "execution_count": 38,
   "metadata": {},
   "outputs": [],
   "source": [
    "def calc_age_category(x):\n",
    "    \n",
    "    if x < 0.5: return 'cubs'\n",
    "    elif x < 1: return 'young'\n",
    "    elif x < 5: return 'young adult'\n",
    "    elif x < 10: return 'adult'\n",
    "    return 'old'\n",
    "train['AgeCategory'] = train.AgeInYears.apply(calc_age_category)\n"
   ]
  },
  {
   "cell_type": "code",
   "execution_count": 39,
   "metadata": {
    "scrolled": true
   },
   "outputs": [
    {
     "data": {
      "text/plain": [
       "<matplotlib.axes._subplots.AxesSubplot at 0x18c524b2b38>"
      ]
     },
     "execution_count": 39,
     "metadata": {},
     "output_type": "execute_result"
    },
    {
     "data": {
      "image/png": "[encoded data removed]",
      "text/plain": [
       "<matplotlib.figure.Figure at 0x18c523336a0>"
      ]
     },
     "metadata": {},
     "output_type": "display_data"
    }
   ],
   "source": [
    "f, (ax1, ax2) = plt.subplots(1, 2, figsize=(16, 4))\n",
    "sns.countplot(data=train, x='OutcomeType',hue='AgeCategory', ax=ax1)## 결과에 따른 나이\n",
    "sns.countplot(data=train, x='AgeCategory',hue='OutcomeType', ax=ax2)## 나이에 따른 결과 \n"
   ]
  },
  {
   "cell_type": "code",
   "execution_count": 40,
   "metadata": {},
   "outputs": [
    {
     "data": {
      "text/plain": [
       "<matplotlib.axes._subplots.AxesSubplot at 0x18c5271d3c8>"
      ]
     },
     "execution_count": 40,
     "metadata": {},
     "output_type": "execute_result"
    },
    {
     "data": {
      "image/png": "[encoded data removed]",
      "text/plain": [
       "<matplotlib.figure.Figure at 0x18c526d6860>"
      ]
     },
     "metadata": {},
     "output_type": "display_data"
    }
   ],
   "source": [
    "f,(ax1,ax2) = plt.subplots(1,2,figsize=(20,5))\n",
    "sns.countplot(data=train, x ='OutcomeType',hue='AnimalType',ax=ax1)\n",
    "sns.countplot(data=train, x='AgeCategory',hue='AnimalType', ax=ax2)## 나이에 따른 Animal Type  \n"
   ]
  },
  {
   "cell_type": "markdown",
   "metadata": {
    "collapsed": true
   },
   "source": [
    "## Breed Feature Values Category 분류 \n",
    "\n",
    "### Dog Breeds: 1320 Categories"
   ]
  },
  {
   "cell_type": "code",
   "execution_count": 41,
   "metadata": {},
   "outputs": [
    {
     "data": {
      "text/plain": [
       "Breed\n",
       "Pit Bull Mix                              1906\n",
       "Chihuahua Shorthair Mix                   1766\n",
       "Labrador Retriever Mix                    1363\n",
       "German Shepherd Mix                        575\n",
       "Australian Cattle Dog Mix                  367\n",
       "Dachshund Mix                              318\n",
       "Boxer Mix                                  245\n",
       "Miniature Poodle Mix                       233\n",
       "Border Collie Mix                          229\n",
       "Australian Shepherd Mix                    163\n",
       "Rat Terrier Mix                            157\n",
       "Catahoula Mix                              157\n",
       "Jack Russell Terrier Mix                   146\n",
       "Yorkshire Terrier Mix                      143\n",
       "Chihuahua Longhair Mix                     142\n",
       "Siberian Husky Mix                         138\n",
       "Miniature Schnauzer Mix                    136\n",
       "Beagle Mix                                 124\n",
       "Rottweiler Mix                             113\n",
       "American Bulldog Mix                       109\n",
       "Cairn Terrier Mix                          102\n",
       "Shih Tzu Mix                               100\n",
       "Chihuahua Shorthair/Dachshund               98\n",
       "Australian Kelpie Mix                       95\n",
       "Staffordshire Mix                           94\n",
       "Pointer Mix                                 93\n",
       "American Staffordshire Terrier Mix          92\n",
       "Great Pyrenees Mix                          86\n",
       "Chihuahua Shorthair                         85\n",
       "Labrador Retriever/Pit Bull                 81\n",
       "                                          ... \n",
       "French Bulldog/English Bulldog               1\n",
       "Flat Coat Retriever/Labrador Retriever       1\n",
       "Golden Retriever/Finnish Spitz               1\n",
       "Golden Retriever/Pembroke Welsh Corgi        1\n",
       "Ibizan Hound/Pit Bull                        1\n",
       "Golden Retriever/Pit Bull                    1\n",
       "Hovawart Mix                                 1\n",
       "Havanese                                     1\n",
       "Harrier/Pointer                              1\n",
       "Harrier/Labrador Retriever                   1\n",
       "Greyhound/Labrador Retriever                 1\n",
       "Greyhound/Great Dane                         1\n",
       "Greyhound/Dalmatian                          1\n",
       "Great Pyrenees/Standard Poodle               1\n",
       "Great Pyrenees/Siberian Husky                1\n",
       "Great Pyrenees/Rottweiler                    1\n",
       "Great Pyrenees/Pointer                       1\n",
       "Great Pyrenees/Pit Bull                      1\n",
       "Great Pyrenees/German Shepherd               1\n",
       "Great Pyrenees/English Setter                1\n",
       "Great Pyrenees/Collie Rough                  1\n",
       "Great Pyrenees/Boxer                         1\n",
       "Great Pyrenees/Australian Shepherd           1\n",
       "Great Dane/Staffordshire                     1\n",
       "Great Dane/Pit Bull                          1\n",
       "Great Dane/German Shepherd                   1\n",
       "Great Dane/Boxer                             1\n",
       "Great Dane/Australian Cattle Dog             1\n",
       "Golden Retriever/Whippet                     1\n",
       "French Bulldog                               1\n",
       "Length: 1320, dtype: int64"
      ]
     },
     "execution_count": 41,
     "metadata": {},
     "output_type": "execute_result"
    }
   ],
   "source": [
    "## Animal Type = Dog 인것중에 개 Breed 로 나눠 인덱싱, 총 1320 Categories \n",
    "feature = 'Breed'\n",
    "\n",
    "feature_values_dog = train.loc[train['AnimalType'] == 'Dog',feature]\n",
    "group = train.groupby([feature_values_dog])\n",
    "group.size().sort_values(ascending = False)"
   ]
  },
  {
   "cell_type": "markdown",
   "metadata": {},
   "source": [
    "### Cat Breeds: 60 Categories"
   ]
  },
  {
   "cell_type": "code",
   "execution_count": 42,
   "metadata": {},
   "outputs": [
    {
     "data": {
      "text/plain": [
       "Breed\n",
       "Domestic Shorthair Mix                     8810\n",
       "Domestic Medium Hair Mix                    839\n",
       "Domestic Longhair Mix                       520\n",
       "Siamese Mix                                 389\n",
       "Domestic Shorthair                          143\n",
       "Snowshoe Mix                                 75\n",
       "Manx Mix                                     44\n",
       "Maine Coon Mix                               44\n",
       "Domestic Medium Hair                         42\n",
       "Russian Blue Mix                             33\n",
       "Siamese                                      24\n",
       "Domestic Longhair                            23\n",
       "Himalayan Mix                                15\n",
       "Persian Mix                                  12\n",
       "Ragdoll Mix                                  11\n",
       "Siamese/Domestic Shorthair                   11\n",
       "American Shorthair Mix                        9\n",
       "Angora Mix                                    7\n",
       "Japanese Bobtail Mix                          6\n",
       "Bombay Mix                                    5\n",
       "Balinese Mix                                  5\n",
       "Tonkinese Mix                                 4\n",
       "Maine Coon                                    3\n",
       "Himalayan                                     3\n",
       "British Shorthair Mix                         3\n",
       "Pixiebob Shorthair Mix                        3\n",
       "Bengal Mix                                    3\n",
       "Domestic Longhair/Persian                     2\n",
       "Domestic Medium Hair/Siamese                  2\n",
       "Cymric Mix                                    2\n",
       "Bengal                                        2\n",
       "Turkish Van Mix                               2\n",
       "Abyssinian Mix                                2\n",
       "Sphynx                                        2\n",
       "Domestic Shorthair/Siamese                    2\n",
       "Exotic Shorthair Mix                          2\n",
       "Javanese Mix                                  2\n",
       "Snowshoe                                      2\n",
       "Siamese/Japanese Bobtail                      2\n",
       "Russian Blue                                  2\n",
       "Manx/Domestic Shorthair                       2\n",
       "Persian                                       2\n",
       "Domestic Shorthair/Manx                       1\n",
       "Cornish Rex Mix                               1\n",
       "Snowshoe/Ragdoll                              1\n",
       "Ragdoll                                       1\n",
       "British Shorthair                             1\n",
       "Burmese                                       1\n",
       "Devon Rex Mix                                 1\n",
       "Ocicat Mix                                    1\n",
       "Devon Rex                                     1\n",
       "Domestic Shorthair/Domestic Medium Hair       1\n",
       "Norwegian Forest Cat Mix                      1\n",
       "Munchkin Longhair Mix                         1\n",
       "Domestic Longhair/Rex                         1\n",
       "Domestic Longhair/Russian Blue                1\n",
       "Manx/Domestic Longhair                        1\n",
       "Manx                                          1\n",
       "Domestic Shorthair/British Shorthair          1\n",
       "Havana Brown Mix                              1\n",
       "dtype: int64"
      ]
     },
     "execution_count": 42,
     "metadata": {},
     "output_type": "execute_result"
    }
   ],
   "source": [
    "## 고양이 종류 총 60여가지, 크게 나누면 훨씬 쉬움\n",
    "## 약 80프로 이상의 고양이가 5가지 이내의 카테고리 분류로 들어감 \n",
    "feature_values_cat = train.loc[train['AnimalType'] == 'Cat',feature]\n",
    "feature_values_cat\n",
    "group = train.groupby([feature_values_cat])\n",
    "group.size().sort_values(ascending = False) "
   ]
  },
  {
   "cell_type": "markdown",
   "metadata": {},
   "source": [
    "## Dog's type: 10 categories (위키피디아 참조)"
   ]
  },
  {
   "cell_type": "code",
   "execution_count": 82,
   "metadata": {
    "collapsed": true
   },
   "outputs": [],
   "source": [
    "## Dog's type 총 10 category\n",
    "\n",
    "## 목양견, 양치기견\n",
    "Herding = ['Bearded Collie', 'Beauceron', 'Belgian Malinois','Malinois','Anatol','Anatol Shepherd',\n",
    "       'Belgian Sheepdog', 'Belgian Tervuren', 'Bergamasco','Kelpie/Pit','Kelpie/Finnish',\n",
    "       'Berger Picard', 'Shetland Sheepdog', 'Border Collie','Border Collie/Greyhound', 'Briard',\n",
    "       'Pyrenean Shepherd', 'Puli', 'Polish Lowland Sheepdog','Border','Collie/Rottweiler',\n",
    "       'Cardigan Welsh Corgi','Cardigan', 'Pembroke Welsh Corgi','Welsh','Corgi/Brittany','Border Collie/Rottweiler',\n",
    "       'Old English Sheepdog', 'Collie', 'Norwegian Buhund','Pointer/Collie Smooth','Pointer/Collie',\n",
    "       'Miniature American Shepherd', 'Entlebucher Mountain Dog','Belgian Malinois','Dutch','Dutch Shepherd'\n",
    "       'Finnish Lapphund', 'Gefrman Shepherd', 'Icelandic Sheepdog','Catahoula/Pit',\n",
    "       'Spanish Water Dog', 'Australian Shepherd Mix', 'Australian Shepherd','Bouvier des Flandres',\n",
    "       'Queensland Heeler','Heeler', 'Swedish Vallhund','Swedish Vallhund Mix','Vallhund', 'Australian Cattle Dog',\n",
    "        'Black Mouth Cur','Mouth','Catahoula', 'Anatolian Shepherd Dog',\n",
    "        'Collie','Sheepdog','Corgi','Mountain','Cattle','Water Dog']\n",
    "Australian_Shepherd = ['Australian Shepherd Mix','Australian Shepherd','Australian Shepherd/Anatol Shepherd']\n",
    "\n",
    "## 사냥견\n",
    "Hound = ['Greyhound','Basset', 'Hound','Saluki','Rhodesian Ridgeback','Redbone Coonhound','Treeing','Treeing Walker Coonhound',\n",
    "         'Treeing Walker Coonhound Mix','Beagle/Pointer','Beagle/Staffordshire','Portuguese Podengo Pequeno','Podengo Pequeno Mix',\n",
    "         'Podengo','Plott','Norwegian Elkhound','Pharaoh Hound','Petit Basset Griffon Vend_en','Pug/Beagle','Beagle/Pug',\n",
    "         'Afghan Hound','Otterhound','Whippet','Borzoi','English Foxhound','Irish Wolfhound','Wolfhound','Basenji','Basset Hound',\n",
    "         'Boxer/Beagle','Beagle','Beagle/Treeing','Harrier','Harrier/Catahoula','Sloughi','Ibizan Hound','American Foxhound','Foxhound',\n",
    "         'Rhod Ridgeback','Rhod ','Ridgeback','Rhod/Ridgeback','Black and Tan Coonhound','Beagle/Chihuahua','Pbgv','Boxer/Harrier',\n",
    "         'American English Coonhound','Coonhound','Bloodhound','Bluetick Coonhound','Scottish Deerhound','Plott Hound',\n",
    "         \"Cirneco dell'Etna\",'Pit Bull/Dogue De Bordeaux','Carolina','De','Bordeaux','Basenji/Chihuahua']\n",
    "\n",
    "## 실내견,가정견,애완견 Companian dogs\n",
    "Non_Sporting = ['Finnish','French Bulldog','Keeshond','Dalmatian','Dalmatian/Boxer','Sharpei','Chinese Sharpei','Chinese Sharpei Mix','Coton de Tulear',\n",
    " 'Lhasa Apso','Lhasa', 'Apso','Norwegian Lundehund','L_wchen','Xoloitzcuintli','Schipperke','Schipperke/Chihuahua','American Bulldog','Bulldog/Pointer',\n",
    " 'English Bulldog','Bichon Fris','Bichon Frise Mix','Bichon','Bulldog','Standard Poodle','Eskimo','Tibetan Spaniel','Bulldog/Chihuahua',\n",
    " 'Chinese Shar Pei','Miniature Poodle','Shiba Inu','Mexican Hairless Mix','Crested']\n",
    "## 스포츠견, 활동적, 야외활동\n",
    "Sporting = ['Greyhound/Dalmatian','Irish Red and White Setter','Irish Setter','Setter/Pit','Sussex Spaniel','Nova Scotia Duck Tolling Retriever','Irish Water Spaniel',\n",
    " 'Labrador Retriever','Retriever/Whippet','Labrador','Lagotto Romagnolo','Vizsla','Vizsla Mix','Vizsla/Boxer','Vizsla/Staffordshire',\n",
    " 'Vizsla/Rhod Ridgeback', 'Vizsla/Catahoula','Weimaraner','Pointer','Pointer/Catahoula','Catahoula/Pointer','Dachshund/Harrier','Canario',\n",
    " 'Welsh Springer Spaniel','Springer', 'Spaniel','WireDachshund/Chihuahuahaired Pointing Griffon','Dachshund/Catahoula','Dachshund/German','Landseer','Jindo',\n",
    " 'Wirehaired Vizsla','Spinone Italiano','Spinone','Spinone Italiano Mix','Gordon Setter','Brittany','Golden','Golden Retriever','Boykin','Boykin Span Mix','Boykin Spaniel','American Water Spaniel','American Eskimo Dog',\n",
    " 'English Cocker Spaniel','English Setter','English Setter Mix','Curly-Coated Retriever','Cocker Spaniel','Cocker','English Springer Spaniel','Field Spaniel','Shiba','Inu/Dachshund',\n",
    " 'Clumber Spaniel','Flat Coat','Flat','Flat Coated Retriever','Retriever','Chesapeake Bay Retriever','Chesa','Chow Chow','Chow','Bay','German Shorthaired Pointer',\n",
    " 'German Wirehaired Pointer','Cocker Spaniel/Dachshund','Spaniel/Dachshund','Dachshund','Dachshund/Pit','Dachshund/Beagle',\n",
    " 'Beagle/Dachshund','Dachshund/Chihuahua','Dachshund/Catahoula','Dachshund/Whippet','Wirehaired']\n",
    "## 테리어견종 - 사냥견중 작은 품종( 주로 오소리, 새등을 잡는 품종으로 개량됨)\n",
    "Terrier = ['Skye Terrier','Cesky Terrier','Norfolk Terrier','Dandie Dinmont Terrier','Border Terrier','Scottish Terrier','Terrier/Dachshund',\n",
    " 'Norwich Terrier','Parson Russell Terrier','Miniature Schnauzer','Rat Terrier','Sealyham Terrier','Russell Terrier','Terrier/Boxer','Tibetan Terrier',\n",
    " 'Bedlington Terrier','Smooth Fox Terrier','Bull Terrier (Miniature)','Staffordshire','Staffordshire/Labrador Retriever',\n",
    " 'Staffordshire/French Bulldog','Staffordshire/English Bulldog','Staffordshire/Boxer','Staffordshire/Beagle','Glen of Imaal Terrier','Imaal','Wire Fox Terrier','Boston Terrier',\n",
    " 'Bull Terrier','Highland','West Highland White Terrier','Irish Terrier','Welsh Terrier','Airedale Terrier','Staffordshire Bull Terrier',\n",
    " 'Kerry Blue Terrier','Cairn Terrier','American Hairless Terrier','Lakeland Terrier','American Staffordshire Terrier','Australian Terrier',\n",
    " 'Manchester Terrier','Soft-Coated Wheaten Terrier','Miniature Bull Terrier', 'Cairn Terrier/Chihuahua Shorthair','Terrier/Chihuahua','Cairn Terrier',\n",
    " 'Jack Russell Terrier Mix','Rat Terrier','Cairn','Russell','Rat','Terrier/Border','Norwich Terrier/Pug','Terrier/Pug','Terr','Feist']\n",
    "## 토이견 \n",
    "Toy = ['Toy','Poodle/Maltese','Toy Poodle/Maltese','Brussels Griffon','Pomeranian','Silky Terrier','American Eskimo Dog (Toy)',\n",
    "       'Toy Fox Terrier','Affenpinscher','Shih Tzu','Shih', 'Tzu','Whippet/Chihuahua Shorthair','Whippet/Chihuahua','Bruss Griffon Mix','Bruss',\n",
    "        'Pug','Pug/Chihuahua','Yorkshire Terrier','Toy Poodle','Miniature Pinscher','Japanese Chin','Chinese Crested Dog','Maltese','Pekingese',\n",
    "         'Italian Greyhound','English Toy Spaniel','Papillon','Chihuahua','Havanese','Cavalier King Charles Spaniel','Cavalier','Bull/Chihuahua',\n",
    "         'Miniature','Poodle','Yorkshire', 'Terrier','Norfolk','West Highland/Chihuahua Shorthair','Highland/Chihuahua',\n",
    "       'Papillon/Chihuahua Shorthair','Papillon/Chihuahua','Maltese/Yorkshire']\n",
    "## 비지니스 활동견\n",
    "Working = ['Giant Schnauzer','Australian Kelpie','Kelpie','Alaskan Malamute','Alaskan', 'Malamute',\n",
    "       'Greater Swiss Mountain Dog', 'Komondor', 'Kuvasz','Blue Lacy/Beagle','Lacy/Beagle',\n",
    "           'Blue Lacy','Lacy','Blue Lacy/Pit Bull','Lacy/Pit','Lacy/Collie','Boxer/Staffordshire',\n",
    "       'Tibetan Mastiff', 'Great Pyrenees','Great Pyrenees Mix','Pyrenees', 'Leonberger',\n",
    "       'Pinscher', 'Standard Schnauzer','Great Pyrenees/Anatol Shepherd','Pyrenees/Anatol',\n",
    "       'Mastiff', 'Bullmastiff', 'Canaan','Schnauzer','Cane Corso','Corso',\n",
    "        'St.','St. Bernard','St. Bernard Rough Coat Mix', 'Boxer', 'Samoyed',\n",
    "       'Doberman Pinscher', 'Boerboel', 'Bernese Mountain Dog', 'Chinook','Akita Mix','Akita',\n",
    "       'Siberian Husky','Husky','Siberian Husky/German Shepherd','Siberian','Husky/German', 'Newfoundland', 'Neapolitan Mastiff',\n",
    "       'Doberman Pinsch','Doberman', 'Pinsch', 'Portuguese Water Dog', 'Black Russian Terrier',\n",
    "       'Great Dane','Great','Dane','Dane/Staffordshire','Great Dane/Staffordshire']\n",
    "Unknown = ['Unknown','Unknown Mix','Nan','nan']\n",
    "## 맹견, 투사견 또는 fierce\n",
    "Fierce = ['Pit','Pit Bull','Pit Bull Mix','American Pit Bull Terrier Mix','American Pit Bull Terrier','Dogo Argentino','Pit Bull/Pit Bull',\n",
    "            'Pit Bull Terrier','Labrador Retriever/Pit Bull','Pit Bull/Rottweiler','Pit Bull/Chinese Sharpei','Bull/Chinese',\n",
    "            'Bull/Rottweiler','Rottweiler Mix','Rottweiler','Boxer/Pit Bull','Pit Bull/Boxer','Pit Bull/St. Bernard Smooth Coat',\n",
    "            'Dogo','Argentino','Dogo Argentino Mix','Dogo Argentino/Chinese Sharpei','kita/Pit Bull','Akita/Pit','Pit Bull/Weimaraner',\n",
    "            'American Pit Bull Terrier/Chinese Sharpei','Pit Bull/Mastiff','Mastiff/Pit Bull','Pit Bull/Catahoula','Canaan Dog/Pit Bull',\n",
    "         'American Pit Bull Terrier/Catahoula']\n",
    "## Guard 견 \n",
    "German_Shepherd = ['German Shepherd Mix','German Shepherd','German Shepherd/Akita','Shepherd/Australian',\n",
    "                   'German Shepherd/Rottweiler','German Shepherd/Pit Bull','German Shepherd/Catahoula','Rottweiler/German Shepherd',\n",
    "                   'German','Shepherd/Rottweiler','German Shepherd/Collie Rough','Beagle/German','German Shepherd/Boxer',\n",
    "                   'Beagle/German Shepherd','Boxer/German Shepherd','German Shepherd/Mastiff','German Shepherd/Collie Smooth']"
   ]
  },
  {
   "cell_type": "markdown",
   "metadata": {},
   "source": [
    "## Cat's Type: 9 Categories (위키피디아 참조)"
   ]
  },
  {
   "cell_type": "code",
   "execution_count": 44,
   "metadata": {
    "collapsed": true
   },
   "outputs": [],
   "source": [
    "## Cat's Type 9종류 분류 ( 위키피디아 기준)\n",
    "\n",
    "## 미국토종 고양이 (미국인들 선호, 대부분의 고양이가 여기에 포함), 쥐잡이용 고양이, 활동성 큼, 건강함 , 애교많음 , 질투많음\n",
    "## Domestic _short 의 경우 압도적으로 개체수가 많음 (9천건 이상), Mediumhair, Longhair는 각각 천마리 미만\n",
    "Domestic_Short= ['American Shorthair Mix','Domestic Shorthair Mix',\n",
    "            'Domestic Shorthair','Domestic Shorthair/Domestic Medium Hair']\n",
    "Domestic_Medium = ['Domestic Medium Hair Mix','Domestic Medium Hair' ]\n",
    "Domestic_Long = [ 'Domestic Longhair Mix','Domestic Longhair','Domestic Longhair/Rex']\n",
    "\n",
    "## 브리티쉬 고양이 ( 미국 토종고양이의 조상)\n",
    "British = ['British Shorthair Mix','Domestic Shorthair/British Shorthair','British Shorthair']\n",
    "## 시암고양이, 우아함, 특이한 색, 흰색& 회백색 얼굴 , 질투많음, 관심 보살핌 필요\n",
    "Siamese = ['Siamese Mix','Siamese','Siamese/Domestic Shorthair','Domestic Medium Hair/Siamese',\n",
    "           'Domestic Shorthair/Siamese' ,'Siamese/Japanese Bobtail']\n",
    "#스노우 슈: 여왕의 고양이, 온순하고 영리. 혼자 방치되는 것을 싫어함\n",
    "Snowshoe =['Snowshoe','Snowshoe Mix','Snowshoe/Ragdoll']\n",
    "##특이품종이지만 개채수 20마리 이상\n",
    "Russian_Blue = ['Russian Blue Mix','Russian Blue','Domestic Longhair/Russian Blue']\n",
    "Persian = ['Persian Mix','Persian','Domestic Longhair/Persian']\n",
    "Manx = ['Manx Mix','Manx','Manx/Domestic Longhair','Manx/Domestic Shorthair','Domestic Shorthair/Manx']\n",
    "Maine_Coon = ['Maine Coon Mix','Maine Coon']\n",
    "## 특이 품종 20 마리 미만\n",
    "Exotic = ['Abyssinian Mix','Himalayan Mix','Himalayan','Bengal Mix','Bengal','Ragdoll Mix','Angora Mix','Japanese Bobtail Mix',\n",
    "          'Bombay Mix','Balinese Mix','Tonkinese Mix','Pixiebob Shorthair Mix','Cymric Mix','Turkish Van Mix',\n",
    "          'Sphynx','Exotic Shorthair Mix','Javanese Mix','Cornish Rex Mix','Ragdoll','Burmese','Devon Rex Mix',\n",
    "          'Ocicat Mix','Devon Rex','Norwegian Forest Cat Mix','Munchkin Longhair Mix','Havana Brown Mix']\n",
    "\n"
   ]
  },
  {
   "cell_type": "code",
   "execution_count": 45,
   "metadata": {
    "collapsed": true
   },
   "outputs": [],
   "source": [
    "\n",
    "def BreedGroups(x):\n",
    "      \n",
    "    x =str(x)\n",
    "    if x: ## 개 3그룹으로 선분류 \n",
    "        if x in Unknown:\n",
    "            return 'Companion'  ##array([ 4967, 23667]) - Dogs, return to owner & Names exsist\n",
    "        elif x in Fierce:\n",
    "            return 'Fierce'\n",
    "        elif x in German_Shepherd:\n",
    "            return 'Working'\n",
    "        elif x in Australian_Shepherd:\n",
    "            return 'Herding'\n",
    "        \n",
    "        ## 고양이 그룹 분류: 9 종류 \n",
    "        elif x in Domestic_Short: ## Domestic Shorthair 의 개체수가 압도적으로 많음 9천건 이상\n",
    "            return 'Domestic'\n",
    "        elif x in Domestic_Medium:\n",
    "            return 'Domestic'\n",
    "        elif x in Domestic_Long:\n",
    "            return 'Domestic'\n",
    "            \n",
    "        elif x in British:\n",
    "            return 'Exotic'\n",
    "        elif x in Siamese:\n",
    "            return 'Exotic'\n",
    "        elif x in Snowshoe:\n",
    "            return 'Exotic'\n",
    "        elif x in Russian_Blue:\n",
    "            return 'Exotic'\n",
    "        elif x in Persian:\n",
    "            return 'Exotic'\n",
    "        elif x in Manx:\n",
    "            return 'Exotic'\n",
    "        elif x in Maine_Coon:\n",
    "            return 'Exotic'\n",
    "        elif x in Exotic:\n",
    "            return 'Exotic'\n",
    "        \n",
    "## 선분류 그룹에 속하지 않는 그룹: 개 7 종류 (목적 분류 세분화 )       \n",
    "        else: \n",
    "            x = x.split()\n",
    "            for i in x: \n",
    "                if i in Herding:\n",
    "                    return 'Herding'\n",
    "                elif i in Hound:\n",
    "                    return 'Hunting'\n",
    "                elif i in Non_Sporting:\n",
    "                    return 'Companion'\n",
    "                elif i in Sporting:\n",
    "                    return 'Sporting'\n",
    "                elif i in Terrier:\n",
    "                    return 'Hunting'\n",
    "                elif i in Toy:\n",
    "                    return 'Toy'\n",
    "                elif i in Working:\n",
    "                    return 'Working'\n",
    "                \n",
    "        return 'Sporting'"
   ]
  },
  {
   "cell_type": "code",
   "execution_count": 46,
   "metadata": {
    "collapsed": true
   },
   "outputs": [],
   "source": [
    "train['BreedGroup'] = train['Breed'].apply(BreedGroups)"
   ]
  },
  {
   "cell_type": "markdown",
   "metadata": {},
   "source": [
    "## Dog: 7 Categories, Cat: 2 Catgegories , Total: 9 Categories "
   ]
  },
  {
   "cell_type": "code",
   "execution_count": 83,
   "metadata": {},
   "outputs": [
    {
     "data": {
      "text/plain": [
       "BreedGroup\n",
       "Companion      401\n",
       "Domestic     10388\n",
       "Exotic         746\n",
       "Fierce        2367\n",
       "Herding       1904\n",
       "Hunting       1576\n",
       "Sporting      3459\n",
       "Toy           4097\n",
       "Working       1791\n",
       "dtype: int64"
      ]
     },
     "execution_count": 83,
     "metadata": {},
     "output_type": "execute_result"
    },
    {
     "data": {
      "image/png": "[encoded data removed]",
      "text/plain": [
       "<matplotlib.figure.Figure at 0x18c55e777f0>"
      ]
     },
     "metadata": {},
     "output_type": "display_data"
    }
   ],
   "source": [
    "sns.countplot(data =train, y='BreedGroup')\n",
    "train.groupby('BreedGroup').size()"
   ]
  },
  {
   "cell_type": "code",
   "execution_count": 85,
   "metadata": {},
   "outputs": [
    {
     "data": {
      "text/plain": [
       "<matplotlib.axes._subplots.AxesSubplot at 0x18c34677358>"
      ]
     },
     "execution_count": 85,
     "metadata": {},
     "output_type": "execute_result"
    },
    {
     "data": {
      "image/png": "[encoded data removed]",
      "text/plain": [
       "<matplotlib.figure.Figure at 0x18c35e95780>"
      ]
     },
     "metadata": {},
     "output_type": "display_data"
    }
   ],
   "source": [
    "sns.countplot(data=train, y='BreedGroup',hue =\"OutcomeType\")\n",
    "#train.groupby(['BreedGroup','OutcomeType']).size()"
   ]
  },
  {
   "cell_type": "markdown",
   "metadata": {},
   "source": [
    "## Mix 견종 Vs. 순종 : 2 Categories "
   ]
  },
  {
   "cell_type": "code",
   "execution_count": 51,
   "metadata": {
    "collapsed": true
   },
   "outputs": [],
   "source": [
    "def Mix(x): ## Mix 인지 아닌지 구분 (개, 고양이 모두 포함 )\n",
    "    x =str(x)\n",
    "    if x.lower == 'nan'or '': return 'Unknown'\n",
    "    if x.find('Mix')>-1:return 'Mix'\n",
    "    elif x.find('/')>-1:return 'Mix'\n",
    "    else:\n",
    "        return 'Pure Breed'"
   ]
  },
  {
   "cell_type": "code",
   "execution_count": 52,
   "metadata": {
    "scrolled": true
   },
   "outputs": [
    {
     "data": {
      "text/plain": [
       "Mix\n",
       "Mix           25338\n",
       "Pure Breed     1391\n",
       "dtype: int64"
      ]
     },
     "execution_count": 52,
     "metadata": {},
     "output_type": "execute_result"
    }
   ],
   "source": [
    "train['Mix'] = train.Breed.apply(Mix)\n",
    "#train['Mix']\n",
    "#sns.countplot(data=train, x ='Mix')\n",
    "train.groupby(['Mix']).size()"
   ]
  },
  {
   "cell_type": "code",
   "execution_count": 53,
   "metadata": {},
   "outputs": [
    {
     "data": {
      "text/plain": [
       "<matplotlib.axes._subplots.AxesSubplot at 0x18c52c9cc88>"
      ]
     },
     "execution_count": 53,
     "metadata": {},
     "output_type": "execute_result"
    },
    {
     "data": {
      "image/png": "[encoded data removed]",
      "text/plain": [
       "<matplotlib.figure.Figure at 0x18c52a2a588>"
      ]
     },
     "metadata": {},
     "output_type": "display_data"
    }
   ],
   "source": [
    "sns.countplot(data=train, y='Mix',hue =\"OutcomeType\") \n",
    "## Mix의 Sample수가 훨씬많고 결과에 따른 분포가 높으나 pure breed의 경우 안락사율이 낮고 Return to owener, Adoption,Transfer의 경우가 거의 비슷하게 나옴"
   ]
  },
  {
   "cell_type": "markdown",
   "metadata": {},
   "source": [
    "## Name : 이름 존재 Vs. 없음으로 구분 (Nan 값:7691 건)"
   ]
  },
  {
   "cell_type": "code",
   "execution_count": 54,
   "metadata": {
    "collapsed": true
   },
   "outputs": [],
   "source": [
    "def Name(x):\n",
    "    x= str(x)\n",
    "    if x == 'Nan': return 'No'\n",
    "    elif x =='nan': return 'No'\n",
    "    elif x.lower() =='unknown': return 'No'\n",
    "    else: return 'Yes'"
   ]
  },
  {
   "cell_type": "code",
   "execution_count": 55,
   "metadata": {
    "scrolled": true
   },
   "outputs": [
    {
     "data": {
      "text/plain": [
       "7691"
      ]
     },
     "execution_count": 55,
     "metadata": {},
     "output_type": "execute_result"
    }
   ],
   "source": [
    "train['NameExsist'] = train['Name'].apply(Name)\n",
    "train['Name'].isnull().sum()"
   ]
  },
  {
   "cell_type": "code",
   "execution_count": 56,
   "metadata": {},
   "outputs": [
    {
     "data": {
      "text/plain": [
       "<matplotlib.axes._subplots.AxesSubplot at 0x18c52d399b0>"
      ]
     },
     "execution_count": 56,
     "metadata": {},
     "output_type": "execute_result"
    },
    {
     "data": {
      "image/png": "[encoded data removed]",
      "text/plain": [
       "<matplotlib.figure.Figure at 0x18c52a2a6a0>"
      ]
     },
     "metadata": {},
     "output_type": "display_data"
    }
   ],
   "source": [
    "sns.countplot(data=train, y='NameExsist',hue =\"OutcomeType\") \n",
    "## 이름이 있는 경우 Return to Owner, Adoption의 경우가 훨씬 높음"
   ]
  }
 ],
 "metadata": {
  "kernelspec": {
   "display_name": "Python 3",
   "language": "python",
   "name": "python3"
  },
  "language_info": {
   "codemirror_mode": {
    "name": "ipython",
    "version": 3
   },
   "file_extension": ".py",
   "mimetype": "text/x-python",
   "name": "python",
   "nbconvert_exporter": "python",
   "pygments_lexer": "ipython3",
   "version": "3.6.1"
  }
 },
 "nbformat": 4,
 "nbformat_minor": 2
}
